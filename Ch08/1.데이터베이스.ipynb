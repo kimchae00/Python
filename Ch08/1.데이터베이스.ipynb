{
 "cells": [
  {
   "cell_type": "code",
   "execution_count": 3,
   "metadata": {},
   "outputs": [],
   "source": [
    "\"\"\"\n",
    "날짜 : 2023/01/13\n",
    "이름 : 김채영\n",
    "내용 : 파이썬 데이터베이스 프로그래밍 실습\n",
    "pip install pymysql\n",
    "\"\"\"\n",
    "import pymysql"
   ]
  },
  {
   "cell_type": "code",
   "execution_count": 8,
   "metadata": {},
   "outputs": [
    {
     "name": "stdout",
     "output_type": "stream",
     "text": [
      "Insert 완료...\n"
     ]
    }
   ],
   "source": [
    "# Insert 실습\n",
    "# 데이터베이스 접속\n",
    "conn = pymysql.connect(host='127.0.0.1', \n",
    "                        user='root', \n",
    "                        password='1234', \n",
    "                        db='java1db', \n",
    "                        charset='utf8')\n",
    "\n",
    "# SQL 실행객체\n",
    "cur = conn.cursor()\n",
    "\n",
    "# SQL 실행\n",
    "sql = \"insert into `user1` values ('p101', '1234', '파이썬', '010-1234-5555', 50)\"\n",
    "cur.execute(sql)\n",
    "conn.commit()\n",
    "\n",
    "# 데이터베이스 종료\n",
    "conn.close()\n",
    "print('Insert 완료...')"
   ]
  },
  {
   "cell_type": "code",
   "execution_count": 10,
   "metadata": {},
   "outputs": [
    {
     "name": "stdout",
     "output_type": "stream",
     "text": [
      "Update 완료...\n"
     ]
    }
   ],
   "source": [
    "# Update 실습\n",
    "# 데이터베이스 접속\n",
    "conn = pymysql.connect(host='127.0.0.1', \n",
    "                        user='root', \n",
    "                        password='1234', \n",
    "                        db='java1db', \n",
    "                        charset='utf8')\n",
    "\n",
    "# SQL 실행객체\n",
    "cur = conn.cursor()\n",
    "\n",
    "# SQL 실행\n",
    "sql = \"update `user1` set \"\n",
    "sql += \"`name`='파이썬2',\"\n",
    "sql += \"`hp`='010-5555-5555',\"\n",
    "sql += \"`age`=27 \"\n",
    "sql += \"where `uid` = 'p101';\"\n",
    "cur.execute(sql)\n",
    "conn.commit()\n",
    "\n",
    "# 데이터베이스 종료\n",
    "conn.close()\n",
    "print('Update 완료...')"
   ]
  },
  {
   "cell_type": "code",
   "execution_count": 11,
   "metadata": {},
   "outputs": [
    {
     "name": "stdout",
     "output_type": "stream",
     "text": [
      "Delete 완료...\n"
     ]
    }
   ],
   "source": [
    "# Delete 실습\n",
    "# 데이터베이스 접속\n",
    "conn = pymysql.connect(host='127.0.0.1', \n",
    "                        user='root', \n",
    "                        password='1234', \n",
    "                        db='java1db', \n",
    "                        charset='utf8')\n",
    "\n",
    "# SQL 실행객체\n",
    "cur = conn.cursor()\n",
    "\n",
    "# SQL 실행\n",
    "sql = \"delete from `user1` where `uid` = 'p101'\"\n",
    "cur.execute(sql)\n",
    "conn.commit()\n",
    "\n",
    "# 데이터베이스 종료\n",
    "conn.close()\n",
    "print('Delete 완료...')"
   ]
  },
  {
   "cell_type": "code",
   "execution_count": null,
   "metadata": {},
   "outputs": [],
   "source": [
    "# Select 실습\n",
    "# 데이터베이스 접속\n",
    "conn = pymysql.connect(host='127.0.0.1', \n",
    "                        user='root', \n",
    "                        password='1234', \n",
    "                        db='java1db', \n",
    "                        charset='utf8')\n",
    "\n",
    "cur = conn.cursor()\n",
    "\n",
    "sql = \"select * from `user1`\"\n",
    "cur.execute(sql)\n",
    "conn.commit()\n",
    "\n",
    "# 데이터 출력 // fetchall() = 전체 나열 함수\n",
    "for row in cur.fetchall():\n",
    "    print('-----------------')\n",
    "    print('아이디 :', row[0])\n",
    "    print('비밀번호 :', row[1])\n",
    "    print('이름 :', row[2])\n",
    "    print('휴대폰 :', row[3])\n",
    "    print('나이 :', row[4])\n",
    "\n",
    "conn.close()\n",
    "print('Select 완료...')"
   ]
  }
 ],
 "metadata": {
  "kernelspec": {
   "display_name": "Python 3",
   "language": "python",
   "name": "python3"
  },
  "language_info": {
   "codemirror_mode": {
    "name": "ipython",
    "version": 3
   },
   "file_extension": ".py",
   "mimetype": "text/x-python",
   "name": "python",
   "nbconvert_exporter": "python",
   "pygments_lexer": "ipython3",
   "version": "3.11.1 (tags/v3.11.1:a7a450f, Dec  6 2022, 19:58:39) [MSC v.1934 64 bit (AMD64)]"
  },
  "orig_nbformat": 4,
  "vscode": {
   "interpreter": {
    "hash": "ca3167030a8377a7b82d5e665b459d458267ba920e721652be188ae573e682bb"
   }
  }
 },
 "nbformat": 4,
 "nbformat_minor": 2
}
